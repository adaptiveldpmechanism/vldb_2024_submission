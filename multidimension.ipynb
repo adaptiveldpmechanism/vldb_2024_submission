{
 "cells": [
  {
   "cell_type": "code",
   "execution_count": 1,
   "metadata": {},
   "outputs": [],
   "source": [
    "from folktables import ACSDataSource, ACSIncome, ACSEmployment, ACSPublicCoverage\n",
    "state_list = ['AL', 'AK', 'AZ', 'AR', 'CA', 'CO', 'CT', 'DE', 'FL', 'GA', 'HI',\n",
    "              'ID', 'IL', 'IN', 'IA', 'KS', 'KY', 'LA', 'ME', 'MD', 'MA', 'MI',\n",
    "              'MN', 'MS', 'MO', 'MT', 'NE', 'NV', 'NH', 'NJ', 'NM', 'NY', 'NC',\n",
    "              'ND', 'OH', 'OK', 'OR', 'PA', 'RI', 'SC', 'SD', 'TN', 'TX', 'UT',\n",
    "              'VT', 'VA', 'WA', 'WV', 'WI', 'WY', 'PR']\n",
    "\n",
    "data_source = ACSDataSource(survey_year='2018', horizon='1-Year', survey='person', root_dir=\"data\")\n",
    "acs_data = data_source.get_data(states=state_list, download=True)\n"
   ]
  },
  {
   "cell_type": "code",
   "execution_count": 44,
   "metadata": {},
   "outputs": [],
   "source": [
    "inc_features, inc_labels, _ = ACSIncome.df_to_numpy(acs_data)\n",
    "inc_data = np.vstack([inc_features.T,inc_labels.T]).T\n",
    "inc_data = (inc_data - inc_data.min(0)) / inc_data.ptp(0)\n",
    "inc_data = 2*inc_data - 1"
   ]
  },
  {
   "cell_type": "code",
   "execution_count": 46,
   "metadata": {},
   "outputs": [
    {
     "data": {
      "text/plain": [
       "-1.0"
      ]
     },
     "execution_count": 46,
     "metadata": {},
     "output_type": "execute_result"
    }
   ],
   "source": [
    "inc_data.min()"
   ]
  },
  {
   "cell_type": "code",
   "execution_count": 25,
   "metadata": {},
   "outputs": [],
   "source": [
    "emp_features, emp_labels, _ = ACSEmployment.df_to_numpy(acs_data)\n",
    "emp_data = np.vstack([emp_features.T,emp_labels.T]).T\n",
    "emp_data = (emp_data - emp_data.min(0)) / emp_data.ptp(0)\n",
    "emp_data = 2*emp_data - 1"
   ]
  },
  {
   "cell_type": "code",
   "execution_count": 26,
   "metadata": {},
   "outputs": [],
   "source": [
    "pc_features, pc_labels, _ = ACSPublicCoverage.df_to_numpy(acs_data)\n",
    "pc_data = np.vstack([pc_features.T,pc_labels.T]).T\n",
    "pc_data = (pc_data - pc_data.min(0)) / pc_data.ptp(0)\n",
    "pc_data = 2*pc_data - 1"
   ]
  },
  {
   "cell_type": "code",
   "execution_count": 27,
   "metadata": {},
   "outputs": [
    {
     "data": {
      "text/plain": [
       "(1664500, 11)"
      ]
     },
     "execution_count": 27,
     "metadata": {},
     "output_type": "execute_result"
    }
   ],
   "source": [
    "inc_data.shape"
   ]
  },
  {
   "cell_type": "code",
   "execution_count": 28,
   "metadata": {},
   "outputs": [
    {
     "data": {
      "text/plain": [
       "(3236107, 17)"
      ]
     },
     "execution_count": 28,
     "metadata": {},
     "output_type": "execute_result"
    }
   ],
   "source": [
    "emp_data.shape"
   ]
  },
  {
   "cell_type": "code",
   "execution_count": 29,
   "metadata": {},
   "outputs": [
    {
     "data": {
      "text/plain": [
       "(1138289, 20)"
      ]
     },
     "execution_count": 29,
     "metadata": {},
     "output_type": "execute_result"
    }
   ],
   "source": [
    "pc_data.shape"
   ]
  },
  {
   "cell_type": "code",
   "execution_count": 38,
   "metadata": {},
   "outputs": [
    {
     "data": {
      "text/plain": [
       "(1138289,)"
      ]
     },
     "execution_count": 38,
     "metadata": {},
     "output_type": "execute_result"
    }
   ],
   "source": [
    "pc_data[:,2].shape"
   ]
  },
  {
   "cell_type": "code",
   "execution_count": 40,
   "metadata": {},
   "outputs": [
    {
     "name": "stdout",
     "output_type": "stream",
     "text": [
      "0\n",
      "(151318,)\n",
      "1\n",
      "(151318,)\n",
      "2\n",
      "(151318,)\n",
      "3\n",
      "(151318,)\n",
      "4\n",
      "(151318,)\n",
      "5\n",
      "(151318,)\n",
      "6\n",
      "(151318,)\n",
      "7\n",
      "(151318,)\n",
      "8\n",
      "(151318,)\n",
      "9\n",
      "(151318,)\n",
      "10\n",
      "(151318,)\n"
     ]
    }
   ],
   "source": [
    "total_samples = inc_data.shape[0]\n",
    "K = inc_data.shape[1]\n",
    "for k in range(K):\n",
    "    print(k)\n",
    "    subset_data = inc_data[np.random.choice(total_samples, int(total_samples/K), replace=False)][:,k]\n",
    "    print(subset_data.shape)"
   ]
  },
  {
   "cell_type": "code",
   "execution_count": null,
   "metadata": {},
   "outputs": [],
   "source": []
  }
 ],
 "metadata": {
  "kernelspec": {
   "display_name": "base",
   "language": "python",
   "name": "python3"
  },
  "language_info": {
   "codemirror_mode": {
    "name": "ipython",
    "version": 3
   },
   "file_extension": ".py",
   "mimetype": "text/x-python",
   "name": "python",
   "nbconvert_exporter": "python",
   "pygments_lexer": "ipython3",
   "version": "3.10.9"
  },
  "orig_nbformat": 4
 },
 "nbformat": 4,
 "nbformat_minor": 2
}
